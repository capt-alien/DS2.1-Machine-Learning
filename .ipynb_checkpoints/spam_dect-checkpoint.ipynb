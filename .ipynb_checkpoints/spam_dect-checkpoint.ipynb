{
 "cells": [
  {
   "cell_type": "code",
   "execution_count": 21,
   "metadata": {},
   "outputs": [],
   "source": [
    "from sklearn.naive_bayes import MultinomialNB\n",
    "from sklearn import metrics\n",
    "import pandas as pd\n",
    "from sklearn.feature_extraction.text import TfidfVectorizer, CountVectorizer\n",
    "from sklearn.model_selection import train_test_split\n",
    "from sklearn import metrics"
   ]
  },
  {
   "cell_type": "code",
   "execution_count": 22,
   "metadata": {},
   "outputs": [],
   "source": [
    "df=pd.read_csv('data/spam.csv', encoding='latin-1')"
   ]
  },
  {
   "cell_type": "code",
   "execution_count": 23,
   "metadata": {},
   "outputs": [
    {
     "data": {
      "text/html": [
       "<div>\n",
       "<style scoped>\n",
       "    .dataframe tbody tr th:only-of-type {\n",
       "        vertical-align: middle;\n",
       "    }\n",
       "\n",
       "    .dataframe tbody tr th {\n",
       "        vertical-align: top;\n",
       "    }\n",
       "\n",
       "    .dataframe thead th {\n",
       "        text-align: right;\n",
       "    }\n",
       "</style>\n",
       "<table border=\"1\" class=\"dataframe\">\n",
       "  <thead>\n",
       "    <tr style=\"text-align: right;\">\n",
       "      <th></th>\n",
       "      <th>label</th>\n",
       "      <th>text</th>\n",
       "    </tr>\n",
       "  </thead>\n",
       "  <tbody>\n",
       "    <tr>\n",
       "      <th>5567</th>\n",
       "      <td>spam</td>\n",
       "      <td>This is the 2nd time we have tried 2 contact u...</td>\n",
       "    </tr>\n",
       "    <tr>\n",
       "      <th>5568</th>\n",
       "      <td>ham</td>\n",
       "      <td>Will Ì_ b going to esplanade fr home?</td>\n",
       "    </tr>\n",
       "    <tr>\n",
       "      <th>5569</th>\n",
       "      <td>ham</td>\n",
       "      <td>Pity, * was in mood for that. So...any other s...</td>\n",
       "    </tr>\n",
       "    <tr>\n",
       "      <th>5570</th>\n",
       "      <td>ham</td>\n",
       "      <td>The guy did some bitching but I acted like i'd...</td>\n",
       "    </tr>\n",
       "    <tr>\n",
       "      <th>5571</th>\n",
       "      <td>ham</td>\n",
       "      <td>Rofl. Its true to its name</td>\n",
       "    </tr>\n",
       "  </tbody>\n",
       "</table>\n",
       "</div>"
      ],
      "text/plain": [
       "     label                                               text\n",
       "5567  spam  This is the 2nd time we have tried 2 contact u...\n",
       "5568   ham              Will Ì_ b going to esplanade fr home?\n",
       "5569   ham  Pity, * was in mood for that. So...any other s...\n",
       "5570   ham  The guy did some bitching but I acted like i'd...\n",
       "5571   ham                         Rofl. Its true to its name"
      ]
     },
     "execution_count": 23,
     "metadata": {},
     "output_type": "execute_result"
    }
   ],
   "source": [
    "df=df.drop(['Unnamed: 2','Unnamed: 3','Unnamed: 4'], axis=1)\n",
    "df=df.rename(columns={'v1':'label', 'v2':'text'})\n",
    "df.tail()"
   ]
  },
  {
   "cell_type": "code",
   "execution_count": 24,
   "metadata": {},
   "outputs": [],
   "source": [
    "tags = df[\"label\"]\n",
    "texts = df[\"text\"]\n",
    "\n",
    "X, y = texts, tags\n",
    "#Train data\n",
    "X_train, X_test, y_train, y_test = train_test_split(X, y, random_state=1)"
   ]
  },
  {
   "cell_type": "code",
   "execution_count": 25,
   "metadata": {},
   "outputs": [
    {
     "name": "stdout",
     "output_type": "stream",
     "text": [
      "  (0, 4527)\t1\n",
      "  (0, 3636)\t1\n",
      "  (0, 3647)\t1\n",
      "  (0, 3493)\t1\n",
      "  (0, 5683)\t1\n",
      "  (0, 3263)\t1\n",
      "  (0, 4469)\t1\n",
      "  (0, 2236)\t1\n",
      "  (0, 4798)\t1\n",
      "  (0, 1488)\t1\n",
      "  (0, 4854)\t1\n",
      "  (0, 3451)\t1\n",
      "  (0, 2218)\t1\n",
      "  (0, 6326)\t2\n",
      "  (0, 6604)\t1\n",
      "  (0, 1535)\t2\n",
      "  (0, 4176)\t2\n",
      "  (0, 7373)\t1\n",
      "  (0, 5065)\t2\n",
      "  (0, 2112)\t1\n",
      "  (0, 6727)\t1\n",
      "  (0, 5712)\t1\n",
      "  (0, 819)\t1\n",
      "  (0, 802)\t1\n",
      "  (0, 919)\t1\n",
      "  :\t:\n",
      "  (4176, 4894)\t1\n",
      "  (4176, 4833)\t1\n",
      "  (4176, 3439)\t1\n",
      "  (4176, 1590)\t1\n",
      "  (4176, 4219)\t1\n",
      "  (4176, 7163)\t1\n",
      "  (4176, 4450)\t1\n",
      "  (4176, 6638)\t1\n",
      "  (4176, 2304)\t1\n",
      "  (4176, 3416)\t1\n",
      "  (4176, 3252)\t1\n",
      "  (4176, 4747)\t1\n",
      "  (4177, 6953)\t1\n",
      "  (4177, 5232)\t1\n",
      "  (4177, 1848)\t1\n",
      "  (4177, 4766)\t1\n",
      "  (4177, 3162)\t1\n",
      "  (4177, 4125)\t1\n",
      "  (4177, 6074)\t1\n",
      "  (4177, 3252)\t1\n",
      "  (4177, 3647)\t1\n",
      "  (4178, 1695)\t1\n",
      "  (4178, 6055)\t1\n",
      "  (4178, 7295)\t1\n",
      "  (4178, 4274)\t1\n"
     ]
    }
   ],
   "source": [
    "vectorizer = CountVectorizer()\n",
    "X_train_dtm = vectorizer.fit_transform(X_train)\n",
    "print(X_train_dtm)"
   ]
  },
  {
   "cell_type": "code",
   "execution_count": 28,
   "metadata": {},
   "outputs": [
    {
     "data": {
      "text/plain": [
       "0.986"
      ]
     },
     "execution_count": 28,
     "metadata": {},
     "output_type": "execute_result"
    }
   ],
   "source": [
    "nb = MultinomialNB()\n",
    "nb.fit(X_train_dtm, y_train)\n",
    "X_test_dtm = vectorizer.transform(X_test)\n",
    "y_pred_class = nb.predict(X_test_dtm)\n",
    "score= metrics.accuracy_score(y_test, y_pred_class)\n",
    "score.round(3)"
   ]
  },
  {
   "cell_type": "raw",
   "metadata": {},
   "source": []
  },
  {
   "cell_type": "code",
   "execution_count": null,
   "metadata": {},
   "outputs": [],
   "source": []
  }
 ],
 "metadata": {
  "kernelspec": {
   "display_name": "Python 3",
   "language": "python",
   "name": "python3"
  },
  "language_info": {
   "codemirror_mode": {
    "name": "ipython",
    "version": 3
   },
   "file_extension": ".py",
   "mimetype": "text/x-python",
   "name": "python",
   "nbconvert_exporter": "python",
   "pygments_lexer": "ipython3",
   "version": "3.7.3"
  }
 },
 "nbformat": 4,
 "nbformat_minor": 2
}
