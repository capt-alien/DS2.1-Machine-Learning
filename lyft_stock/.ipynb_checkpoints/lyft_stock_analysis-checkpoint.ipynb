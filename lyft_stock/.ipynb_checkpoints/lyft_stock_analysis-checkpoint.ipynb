{
 "cells": [
  {
   "cell_type": "code",
   "execution_count": null,
   "metadata": {},
   "outputs": [],
   "source": [
    "\"\"\"ML steps:\n",
    "    \n",
    "1)  Distinguish the problem\n",
    "\n",
    "2) Instantiate the appropriate ML model\n",
    "\n",
    "3) Split data to train and test\n",
    "\n",
    "4) Train the model based in X_train and Y_train if supervised\n",
    "\n",
    "5) Predict based on X_text\n",
    "\n",
    "6) Evaluate Model\n",
    "\n",
    "Make model better by: Hyper-parameter tuning by Grid-search, Check is dataset balanced \n",
    "    or not -> change the threshold, Data preprocessing (scaling), Dimensionality reduction \n",
    "    -> train the model based on X_reduced_train and Y_reduced_train, Try other models and \n",
    "    do the above three steps\n",
    "    \"\"\"\n"
   ]
  }
 ],
 "metadata": {
  "kernelspec": {
   "display_name": "Python 3",
   "language": "python",
   "name": "python3"
  },
  "language_info": {
   "codemirror_mode": {
    "name": "ipython",
    "version": 3
   },
   "file_extension": ".py",
   "mimetype": "text/x-python",
   "name": "python",
   "nbconvert_exporter": "python",
   "pygments_lexer": "ipython3",
   "version": "3.7.3"
  }
 },
 "nbformat": 4,
 "nbformat_minor": 2
}
