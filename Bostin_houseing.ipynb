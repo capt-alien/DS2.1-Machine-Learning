{
 "cells": [
  {
   "cell_type": "markdown",
   "metadata": {},
   "source": [
    "assignment:\n",
    "    \n",
    "    \n",
    "https://github.com/Make-School-Courses/DS-2.1-Machine-Learning/blob/master/Assignments/Home_Work_Linear_Regression.ipynb"
   ]
  },
  {
   "cell_type": "code",
   "execution_count": 208,
   "metadata": {},
   "outputs": [
    {
     "name": "stdout",
     "output_type": "stream",
     "text": [
      "[[6.3200e-03 1.8000e+01 2.3100e+00 ... 1.5300e+01 3.9690e+02 4.9800e+00]\n",
      " [2.7310e-02 0.0000e+00 7.0700e+00 ... 1.7800e+01 3.9690e+02 9.1400e+00]\n",
      " [2.7290e-02 0.0000e+00 7.0700e+00 ... 1.7800e+01 3.9283e+02 4.0300e+00]\n",
      " ...\n",
      " [6.0760e-02 0.0000e+00 1.1930e+01 ... 2.1000e+01 3.9690e+02 5.6400e+00]\n",
      " [1.0959e-01 0.0000e+00 1.1930e+01 ... 2.1000e+01 3.9345e+02 6.4800e+00]\n",
      " [4.7410e-02 0.0000e+00 1.1930e+01 ... 2.1000e+01 3.9690e+02 7.8800e+00]]\n",
      "(506, 13)\n",
      "      CRIM    ZN  INDUS  CHAS    NOX     RM   AGE     DIS  RAD    TAX  \\\n",
      "0  0.00632  18.0   2.31   0.0  0.538  6.575  65.2  4.0900  1.0  296.0   \n",
      "1  0.02731   0.0   7.07   0.0  0.469  6.421  78.9  4.9671  2.0  242.0   \n",
      "2  0.02729   0.0   7.07   0.0  0.469  7.185  61.1  4.9671  2.0  242.0   \n",
      "3  0.03237   0.0   2.18   0.0  0.458  6.998  45.8  6.0622  3.0  222.0   \n",
      "4  0.06905   0.0   2.18   0.0  0.458  7.147  54.2  6.0622  3.0  222.0   \n",
      "\n",
      "   PTRATIO       B  LSTAT  PRICE  \n",
      "0     15.3  396.90   4.98   24.0  \n",
      "1     17.8  396.90   9.14   21.6  \n",
      "2     17.8  392.83   4.03   34.7  \n",
      "3     18.7  394.63   2.94   33.4  \n",
      "4     18.7  396.90   5.33   36.2  \n"
     ]
    }
   ],
   "source": [
    "# 1- Read in the dataset using sklearn's load_boston() function (found in sklearn.datasets)\n",
    "\n",
    "# import the load_boston() function from sklearn.datasets\n",
    "from sklearn.datasets import load_boston\n",
    "from sklearn.model_selection import train_test_split\n",
    "from sklearn.metrics import mean_squared_error, r2_score\n",
    "import pandas as pd\n",
    "import numpy as np\n",
    "import matplotlib.pyplot as plt\n",
    "import seaborn as sns\n",
    "# import sklearn\n",
    "import statsmodels.api as sm\n",
    "\n",
    "\n",
    "boston = load_boston()\n",
    "\n",
    "print(boston.data)\n",
    "print(boston.data.shape)\n",
    "\n",
    "bos = pd.DataFrame(boston.data)\n",
    "bos.columns = boston.feature_names\n",
    "bos['PRICE'] = boston.target\n",
    "\n",
    "print(bos.head())"
   ]
  },
  {
   "cell_type": "code",
   "execution_count": 49,
   "metadata": {},
   "outputs": [
    {
     "name": "stdout",
     "output_type": "stream",
     "text": [
      ".. _boston_dataset:\n",
      "\n",
      "Boston house prices dataset\n",
      "---------------------------\n",
      "\n",
      "**Data Set Characteristics:**  \n",
      "\n",
      "    :Number of Instances: 506 \n",
      "\n",
      "    :Number of Attributes: 13 numeric/categorical predictive. Median Value (attribute 14) is usually the target.\n",
      "\n",
      "    :Attribute Information (in order):\n",
      "        - CRIM     per capita crime rate by town\n",
      "        - ZN       proportion of residential land zoned for lots over 25,000 sq.ft.\n",
      "        - INDUS    proportion of non-retail business acres per town\n",
      "        - CHAS     Charles River dummy variable (= 1 if tract bounds river; 0 otherwise)\n",
      "        - NOX      nitric oxides concentration (parts per 10 million)\n",
      "        - RM       average number of rooms per dwelling\n",
      "        - AGE      proportion of owner-occupied units built prior to 1940\n",
      "        - DIS      weighted distances to five Boston employment centres\n",
      "        - RAD      index of accessibility to radial highways\n",
      "        - TAX      full-value property-tax rate per $10,000\n",
      "        - PTRATIO  pupil-teacher ratio by town\n",
      "        - B        1000(Bk - 0.63)^2 where Bk is the proportion of blacks by town\n",
      "        - LSTAT    % lower status of the population\n",
      "        - MEDV     Median value of owner-occupied homes in $1000's\n",
      "\n",
      "    :Missing Attribute Values: None\n",
      "\n",
      "    :Creator: Harrison, D. and Rubinfeld, D.L.\n",
      "\n",
      "This is a copy of UCI ML housing dataset.\n",
      "https://archive.ics.uci.edu/ml/machine-learning-databases/housing/\n",
      "\n",
      "\n",
      "This dataset was taken from the StatLib library which is maintained at Carnegie Mellon University.\n",
      "\n",
      "The Boston house-price data of Harrison, D. and Rubinfeld, D.L. 'Hedonic\n",
      "prices and the demand for clean air', J. Environ. Economics & Management,\n",
      "vol.5, 81-102, 1978.   Used in Belsley, Kuh & Welsch, 'Regression diagnostics\n",
      "...', Wiley, 1980.   N.B. Various transformations are used in the table on\n",
      "pages 244-261 of the latter.\n",
      "\n",
      "The Boston house-price data has been used in many machine learning papers that address regression\n",
      "problems.   \n",
      "     \n",
      ".. topic:: References\n",
      "\n",
      "   - Belsley, Kuh & Welsch, 'Regression diagnostics: Identifying Influential Data and Sources of Collinearity', Wiley, 1980. 244-261.\n",
      "   - Quinlan,R. (1993). Combining Instance-Based and Model-Based Learning. In Proceedings on the Tenth International Conference of Machine Learning, 236-243, University of Massachusetts, Amherst. Morgan Kaufmann.\n",
      "\n"
     ]
    }
   ],
   "source": [
    "print(boston.DESCR)"
   ]
  },
  {
   "cell_type": "code",
   "execution_count": 23,
   "metadata": {
    "scrolled": true
   },
   "outputs": [
    {
     "data": {
      "text/html": [
       "<div>\n",
       "<style scoped>\n",
       "    .dataframe tbody tr th:only-of-type {\n",
       "        vertical-align: middle;\n",
       "    }\n",
       "\n",
       "    .dataframe tbody tr th {\n",
       "        vertical-align: top;\n",
       "    }\n",
       "\n",
       "    .dataframe thead th {\n",
       "        text-align: right;\n",
       "    }\n",
       "</style>\n",
       "<table border=\"1\" class=\"dataframe\">\n",
       "  <thead>\n",
       "    <tr style=\"text-align: right;\">\n",
       "      <th></th>\n",
       "      <th>CRIM</th>\n",
       "      <th>ZN</th>\n",
       "      <th>INDUS</th>\n",
       "      <th>CHAS</th>\n",
       "      <th>NOX</th>\n",
       "      <th>RM</th>\n",
       "      <th>AGE</th>\n",
       "      <th>DIS</th>\n",
       "      <th>RAD</th>\n",
       "      <th>TAX</th>\n",
       "      <th>PTRATIO</th>\n",
       "      <th>B</th>\n",
       "      <th>LSTAT</th>\n",
       "      <th>PRICE</th>\n",
       "    </tr>\n",
       "  </thead>\n",
       "  <tbody>\n",
       "    <tr>\n",
       "      <th>0</th>\n",
       "      <td>0.00632</td>\n",
       "      <td>18.0</td>\n",
       "      <td>2.31</td>\n",
       "      <td>0.0</td>\n",
       "      <td>0.538</td>\n",
       "      <td>6.575</td>\n",
       "      <td>65.2</td>\n",
       "      <td>4.0900</td>\n",
       "      <td>1.0</td>\n",
       "      <td>296.0</td>\n",
       "      <td>15.3</td>\n",
       "      <td>396.90</td>\n",
       "      <td>4.98</td>\n",
       "      <td>24.0</td>\n",
       "    </tr>\n",
       "    <tr>\n",
       "      <th>1</th>\n",
       "      <td>0.02731</td>\n",
       "      <td>0.0</td>\n",
       "      <td>7.07</td>\n",
       "      <td>0.0</td>\n",
       "      <td>0.469</td>\n",
       "      <td>6.421</td>\n",
       "      <td>78.9</td>\n",
       "      <td>4.9671</td>\n",
       "      <td>2.0</td>\n",
       "      <td>242.0</td>\n",
       "      <td>17.8</td>\n",
       "      <td>396.90</td>\n",
       "      <td>9.14</td>\n",
       "      <td>21.6</td>\n",
       "    </tr>\n",
       "    <tr>\n",
       "      <th>2</th>\n",
       "      <td>0.02729</td>\n",
       "      <td>0.0</td>\n",
       "      <td>7.07</td>\n",
       "      <td>0.0</td>\n",
       "      <td>0.469</td>\n",
       "      <td>7.185</td>\n",
       "      <td>61.1</td>\n",
       "      <td>4.9671</td>\n",
       "      <td>2.0</td>\n",
       "      <td>242.0</td>\n",
       "      <td>17.8</td>\n",
       "      <td>392.83</td>\n",
       "      <td>4.03</td>\n",
       "      <td>34.7</td>\n",
       "    </tr>\n",
       "    <tr>\n",
       "      <th>3</th>\n",
       "      <td>0.03237</td>\n",
       "      <td>0.0</td>\n",
       "      <td>2.18</td>\n",
       "      <td>0.0</td>\n",
       "      <td>0.458</td>\n",
       "      <td>6.998</td>\n",
       "      <td>45.8</td>\n",
       "      <td>6.0622</td>\n",
       "      <td>3.0</td>\n",
       "      <td>222.0</td>\n",
       "      <td>18.7</td>\n",
       "      <td>394.63</td>\n",
       "      <td>2.94</td>\n",
       "      <td>33.4</td>\n",
       "    </tr>\n",
       "    <tr>\n",
       "      <th>4</th>\n",
       "      <td>0.06905</td>\n",
       "      <td>0.0</td>\n",
       "      <td>2.18</td>\n",
       "      <td>0.0</td>\n",
       "      <td>0.458</td>\n",
       "      <td>7.147</td>\n",
       "      <td>54.2</td>\n",
       "      <td>6.0622</td>\n",
       "      <td>3.0</td>\n",
       "      <td>222.0</td>\n",
       "      <td>18.7</td>\n",
       "      <td>396.90</td>\n",
       "      <td>5.33</td>\n",
       "      <td>36.2</td>\n",
       "    </tr>\n",
       "  </tbody>\n",
       "</table>\n",
       "</div>"
      ],
      "text/plain": [
       "      CRIM    ZN  INDUS  CHAS    NOX     RM   AGE     DIS  RAD    TAX  \\\n",
       "0  0.00632  18.0   2.31   0.0  0.538  6.575  65.2  4.0900  1.0  296.0   \n",
       "1  0.02731   0.0   7.07   0.0  0.469  6.421  78.9  4.9671  2.0  242.0   \n",
       "2  0.02729   0.0   7.07   0.0  0.469  7.185  61.1  4.9671  2.0  242.0   \n",
       "3  0.03237   0.0   2.18   0.0  0.458  6.998  45.8  6.0622  3.0  222.0   \n",
       "4  0.06905   0.0   2.18   0.0  0.458  7.147  54.2  6.0622  3.0  222.0   \n",
       "\n",
       "   PTRATIO       B  LSTAT  PRICE  \n",
       "0     15.3  396.90   4.98   24.0  \n",
       "1     17.8  396.90   9.14   21.6  \n",
       "2     17.8  392.83   4.03   34.7  \n",
       "3     18.7  394.63   2.94   33.4  \n",
       "4     18.7  396.90   5.33   36.2  "
      ]
     },
     "execution_count": 23,
     "metadata": {},
     "output_type": "execute_result"
    }
   ],
   "source": [
    "bos.head()"
   ]
  },
  {
   "cell_type": "code",
   "execution_count": 15,
   "metadata": {},
   "outputs": [],
   "source": [
    "# Backup file to a .csv\n",
    "\n",
    "filename = \"./data/boston_data\"\n",
    "bos.to_csv(filename, sep=',')"
   ]
  },
  {
   "cell_type": "markdown",
   "metadata": {},
   "source": [
    "2- Perform some basic exploratory data analysis to get a feel for the data. Graph some stuff!\n",
    "\n"
   ]
  },
  {
   "cell_type": "code",
   "execution_count": 35,
   "metadata": {},
   "outputs": [
    {
     "data": {
      "text/html": [
       "<div>\n",
       "<style scoped>\n",
       "    .dataframe tbody tr th:only-of-type {\n",
       "        vertical-align: middle;\n",
       "    }\n",
       "\n",
       "    .dataframe tbody tr th {\n",
       "        vertical-align: top;\n",
       "    }\n",
       "\n",
       "    .dataframe thead th {\n",
       "        text-align: right;\n",
       "    }\n",
       "</style>\n",
       "<table border=\"1\" class=\"dataframe\">\n",
       "  <thead>\n",
       "    <tr style=\"text-align: right;\">\n",
       "      <th></th>\n",
       "      <th>CRIM</th>\n",
       "      <th>ZN</th>\n",
       "      <th>INDUS</th>\n",
       "      <th>CHAS</th>\n",
       "      <th>NOX</th>\n",
       "      <th>RM</th>\n",
       "      <th>AGE</th>\n",
       "      <th>DIS</th>\n",
       "      <th>RAD</th>\n",
       "      <th>TAX</th>\n",
       "      <th>PTRATIO</th>\n",
       "      <th>B</th>\n",
       "      <th>LSTAT</th>\n",
       "      <th>PRICE</th>\n",
       "    </tr>\n",
       "  </thead>\n",
       "  <tbody>\n",
       "    <tr>\n",
       "      <th>count</th>\n",
       "      <td>506.00</td>\n",
       "      <td>506.00</td>\n",
       "      <td>506.00</td>\n",
       "      <td>506.00</td>\n",
       "      <td>506.00</td>\n",
       "      <td>506.00</td>\n",
       "      <td>506.00</td>\n",
       "      <td>506.00</td>\n",
       "      <td>506.00</td>\n",
       "      <td>506.00</td>\n",
       "      <td>506.00</td>\n",
       "      <td>506.00</td>\n",
       "      <td>506.00</td>\n",
       "      <td>506.00</td>\n",
       "    </tr>\n",
       "    <tr>\n",
       "      <th>mean</th>\n",
       "      <td>3.61</td>\n",
       "      <td>11.36</td>\n",
       "      <td>11.14</td>\n",
       "      <td>0.07</td>\n",
       "      <td>0.55</td>\n",
       "      <td>6.28</td>\n",
       "      <td>68.57</td>\n",
       "      <td>3.80</td>\n",
       "      <td>9.55</td>\n",
       "      <td>408.24</td>\n",
       "      <td>18.46</td>\n",
       "      <td>356.67</td>\n",
       "      <td>12.65</td>\n",
       "      <td>22.53</td>\n",
       "    </tr>\n",
       "    <tr>\n",
       "      <th>std</th>\n",
       "      <td>8.60</td>\n",
       "      <td>23.32</td>\n",
       "      <td>6.86</td>\n",
       "      <td>0.25</td>\n",
       "      <td>0.12</td>\n",
       "      <td>0.70</td>\n",
       "      <td>28.15</td>\n",
       "      <td>2.11</td>\n",
       "      <td>8.71</td>\n",
       "      <td>168.54</td>\n",
       "      <td>2.16</td>\n",
       "      <td>91.29</td>\n",
       "      <td>7.14</td>\n",
       "      <td>9.20</td>\n",
       "    </tr>\n",
       "    <tr>\n",
       "      <th>min</th>\n",
       "      <td>0.01</td>\n",
       "      <td>0.00</td>\n",
       "      <td>0.46</td>\n",
       "      <td>0.00</td>\n",
       "      <td>0.38</td>\n",
       "      <td>3.56</td>\n",
       "      <td>2.90</td>\n",
       "      <td>1.13</td>\n",
       "      <td>1.00</td>\n",
       "      <td>187.00</td>\n",
       "      <td>12.60</td>\n",
       "      <td>0.32</td>\n",
       "      <td>1.73</td>\n",
       "      <td>5.00</td>\n",
       "    </tr>\n",
       "    <tr>\n",
       "      <th>25%</th>\n",
       "      <td>0.08</td>\n",
       "      <td>0.00</td>\n",
       "      <td>5.19</td>\n",
       "      <td>0.00</td>\n",
       "      <td>0.45</td>\n",
       "      <td>5.89</td>\n",
       "      <td>45.02</td>\n",
       "      <td>2.10</td>\n",
       "      <td>4.00</td>\n",
       "      <td>279.00</td>\n",
       "      <td>17.40</td>\n",
       "      <td>375.38</td>\n",
       "      <td>6.95</td>\n",
       "      <td>17.02</td>\n",
       "    </tr>\n",
       "    <tr>\n",
       "      <th>50%</th>\n",
       "      <td>0.26</td>\n",
       "      <td>0.00</td>\n",
       "      <td>9.69</td>\n",
       "      <td>0.00</td>\n",
       "      <td>0.54</td>\n",
       "      <td>6.21</td>\n",
       "      <td>77.50</td>\n",
       "      <td>3.21</td>\n",
       "      <td>5.00</td>\n",
       "      <td>330.00</td>\n",
       "      <td>19.05</td>\n",
       "      <td>391.44</td>\n",
       "      <td>11.36</td>\n",
       "      <td>21.20</td>\n",
       "    </tr>\n",
       "    <tr>\n",
       "      <th>75%</th>\n",
       "      <td>3.68</td>\n",
       "      <td>12.50</td>\n",
       "      <td>18.10</td>\n",
       "      <td>0.00</td>\n",
       "      <td>0.62</td>\n",
       "      <td>6.62</td>\n",
       "      <td>94.07</td>\n",
       "      <td>5.19</td>\n",
       "      <td>24.00</td>\n",
       "      <td>666.00</td>\n",
       "      <td>20.20</td>\n",
       "      <td>396.22</td>\n",
       "      <td>16.96</td>\n",
       "      <td>25.00</td>\n",
       "    </tr>\n",
       "    <tr>\n",
       "      <th>max</th>\n",
       "      <td>88.98</td>\n",
       "      <td>100.00</td>\n",
       "      <td>27.74</td>\n",
       "      <td>1.00</td>\n",
       "      <td>0.87</td>\n",
       "      <td>8.78</td>\n",
       "      <td>100.00</td>\n",
       "      <td>12.13</td>\n",
       "      <td>24.00</td>\n",
       "      <td>711.00</td>\n",
       "      <td>22.00</td>\n",
       "      <td>396.90</td>\n",
       "      <td>37.97</td>\n",
       "      <td>50.00</td>\n",
       "    </tr>\n",
       "  </tbody>\n",
       "</table>\n",
       "</div>"
      ],
      "text/plain": [
       "         CRIM      ZN   INDUS    CHAS     NOX      RM     AGE     DIS     RAD  \\\n",
       "count  506.00  506.00  506.00  506.00  506.00  506.00  506.00  506.00  506.00   \n",
       "mean     3.61   11.36   11.14    0.07    0.55    6.28   68.57    3.80    9.55   \n",
       "std      8.60   23.32    6.86    0.25    0.12    0.70   28.15    2.11    8.71   \n",
       "min      0.01    0.00    0.46    0.00    0.38    3.56    2.90    1.13    1.00   \n",
       "25%      0.08    0.00    5.19    0.00    0.45    5.89   45.02    2.10    4.00   \n",
       "50%      0.26    0.00    9.69    0.00    0.54    6.21   77.50    3.21    5.00   \n",
       "75%      3.68   12.50   18.10    0.00    0.62    6.62   94.07    5.19   24.00   \n",
       "max     88.98  100.00   27.74    1.00    0.87    8.78  100.00   12.13   24.00   \n",
       "\n",
       "          TAX  PTRATIO       B   LSTAT   PRICE  \n",
       "count  506.00   506.00  506.00  506.00  506.00  \n",
       "mean   408.24    18.46  356.67   12.65   22.53  \n",
       "std    168.54     2.16   91.29    7.14    9.20  \n",
       "min    187.00    12.60    0.32    1.73    5.00  \n",
       "25%    279.00    17.40  375.38    6.95   17.02  \n",
       "50%    330.00    19.05  391.44   11.36   21.20  \n",
       "75%    666.00    20.20  396.22   16.96   25.00  \n",
       "max    711.00    22.00  396.90   37.97   50.00  "
      ]
     },
     "execution_count": 35,
     "metadata": {},
     "output_type": "execute_result"
    }
   ],
   "source": [
    "bos.keys()\n",
    "#.round(2)will limit decimals\n",
    "bos.describe().round(2)"
   ]
  },
  {
   "cell_type": "markdown",
   "metadata": {},
   "source": [
    "Lets graph some things"
   ]
  },
  {
   "cell_type": "code",
   "execution_count": 58,
   "metadata": {},
   "outputs": [],
   "source": [
    "def scatter_two_features(independent_feature, dependent_feature=\"PRICE\"):\n",
    "    \"\"\" Plots a scatterplot of two features across our joint dataset. \"\"\"\n",
    "    plt.scatter(bos[independent_feature], bos[dependent_feature])\n",
    "    plt.xlabel(independent_feature)\n",
    "    plt.ylabel(dependent_feature)"
   ]
  },
  {
   "cell_type": "code",
   "execution_count": 34,
   "metadata": {},
   "outputs": [
    {
     "data": {
      "text/plain": [
       "<matplotlib.axes._subplots.AxesSubplot at 0x1c17e83a20>"
      ]
     },
     "execution_count": 34,
     "metadata": {},
     "output_type": "execute_result"
    },
    {
     "data": {
      "image/png": "[encoded data removed]",
      "text/plain": [
       "<Figure size 432x288 with 1 Axes>"
      ]
     },
     "metadata": {
      "needs_background": "light"
     },
     "output_type": "display_data"
    }
   ],
   "source": [
    "# Price to crime\n",
    "\n",
    "bos.plot.scatter(x=\"PRICE\", y=\"CRIM\")\n",
    "\n",
    "# Create an object that holds our trendline\n",
    "# y_fit = m * X + b\n",
    "y_fit = \n",
    "\n",
    "# Plot the object"
   ]
  },
  {
   "cell_type": "code",
   "execution_count": 28,
   "metadata": {},
   "outputs": [
    {
     "data": {
      "text/plain": [
       "<matplotlib.axes._subplots.AxesSubplot at 0x1c17421588>"
      ]
     },
     "execution_count": 28,
     "metadata": {},
     "output_type": "execute_result"
    },
    {
     "data": {
      "image/png": "[encoded data removed]",
      "text/plain": [
       "<Figure size 432x288 with 1 Axes>"
      ]
     },
     "metadata": {
      "needs_background": "light"
     },
     "output_type": "display_data"
    }
   ],
   "source": [
    "#Price to age\n",
    "\n",
    "bos.plot.scatter(x=\"AGE\", y=\"PRICE\")"
   ]
  },
  {
   "cell_type": "code",
   "execution_count": 29,
   "metadata": {},
   "outputs": [
    {
     "data": {
      "text/plain": [
       "<matplotlib.axes._subplots.AxesSubplot at 0x1c174232b0>"
      ]
     },
     "execution_count": 29,
     "metadata": {},
     "output_type": "execute_result"
    },
    {
     "data": {
      "image/png": "[encoded data removed]",
      "text/plain": [
       "<Figure size 432x288 with 1 Axes>"
      ]
     },
     "metadata": {
      "needs_background": "light"
     },
     "output_type": "display_data"
    }
   ],
   "source": [
    "bos.plot.scatter(x=\"NOX\", y=\"PRICE\")"
   ]
  },
  {
   "cell_type": "code",
   "execution_count": 30,
   "metadata": {},
   "outputs": [
    {
     "data": {
      "text/plain": [
       "<matplotlib.axes._subplots.AxesSubplot at 0x1c17b14160>"
      ]
     },
     "execution_count": 30,
     "metadata": {},
     "output_type": "execute_result"
    },
    {
     "data": {
      "image/png": "[encoded data removed]",
      "text/plain": [
       "<Figure size 432x288 with 1 Axes>"
      ]
     },
     "metadata": {
      "needs_background": "light"
     },
     "output_type": "display_data"
    }
   ],
   "source": [
    "bos.plot.scatter(x=\"INDUS\", y=\"PRICE\")"
   ]
  },
  {
   "cell_type": "code",
   "execution_count": 36,
   "metadata": {},
   "outputs": [
    {
     "data": {
      "text/plain": [
       "Index(['CRIM', 'ZN', 'INDUS', 'CHAS', 'NOX', 'RM', 'AGE', 'DIS', 'RAD', 'TAX',\n",
       "       'PTRATIO', 'B', 'LSTAT', 'PRICE'],\n",
       "      dtype='object')"
      ]
     },
     "execution_count": 36,
     "metadata": {},
     "output_type": "execute_result"
    }
   ],
   "source": [
    "bos.keys()"
   ]
  },
  {
   "cell_type": "code",
   "execution_count": 43,
   "metadata": {},
   "outputs": [
    {
     "data": {
      "text/plain": [
       "<matplotlib.axes._subplots.AxesSubplot at 0x1c17f5fb38>"
      ]
     },
     "execution_count": 43,
     "metadata": {},
     "output_type": "execute_result"
    },
    {
     "data": {
      "image/png": "[encoded data removed]",
      "text/plain": [
       "<Figure size 432x288 with 1 Axes>"
      ]
     },
     "metadata": {
      "needs_background": "light"
     },
     "output_type": "display_data"
    }
   ],
   "source": [
    "bos.plot.scatter(x=\"RAD\", y=\"PRICE\")"
   ]
  },
  {
   "cell_type": "code",
   "execution_count": 42,
   "metadata": {},
   "outputs": [
    {
     "name": "stdout",
     "output_type": "stream",
     "text": [
      ".. _boston_dataset:\n",
      "\n",
      "Boston house prices dataset\n",
      "---------------------------\n",
      "\n",
      "**Data Set Characteristics:**  \n",
      "\n",
      "    :Number of Instances: 506 \n",
      "\n",
      "    :Number of Attributes: 13 numeric/categorical predictive. Median Value (attribute 14) is usually the target.\n",
      "\n",
      "    :Attribute Information (in order):\n",
      "        - CRIM     per capita crime rate by town\n",
      "        - ZN       proportion of residential land zoned for lots over 25,000 sq.ft.\n",
      "        - INDUS    proportion of non-retail business acres per town\n",
      "        - CHAS     Charles River dummy variable (= 1 if tract bounds river; 0 otherwise)\n",
      "        - NOX      nitric oxides concentration (parts per 10 million)\n",
      "        - RM       average number of rooms per dwelling\n",
      "        - AGE      proportion of owner-occupied units built prior to 1940\n",
      "        - DIS      weighted distances to five Boston employment centres\n",
      "        - RAD      index of accessibility to radial highways\n",
      "        - TAX      full-value property-tax rate per $10,000\n",
      "        - PTRATIO  pupil-teacher ratio by town\n",
      "        - B        1000(Bk - 0.63)^2 where Bk is the proportion of blacks by town\n",
      "        - LSTAT    % lower status of the population\n",
      "        - MEDV     Median value of owner-occupied homes in $1000's\n",
      "\n",
      "    :Missing Attribute Values: None\n",
      "\n",
      "    :Creator: Harrison, D. and Rubinfeld, D.L.\n",
      "\n",
      "This is a copy of UCI ML housing dataset.\n",
      "https://archive.ics.uci.edu/ml/machine-learning-databases/housing/\n",
      "\n",
      "\n",
      "This dataset was taken from the StatLib library which is maintained at Carnegie Mellon University.\n",
      "\n",
      "The Boston house-price data of Harrison, D. and Rubinfeld, D.L. 'Hedonic\n",
      "prices and the demand for clean air', J. Environ. Economics & Management,\n",
      "vol.5, 81-102, 1978.   Used in Belsley, Kuh & Welsch, 'Regression diagnostics\n",
      "...', Wiley, 1980.   N.B. Various transformations are used in the table on\n",
      "pages 244-261 of the latter.\n",
      "\n",
      "The Boston house-price data has been used in many machine learning papers that address regression\n",
      "problems.   \n",
      "     \n",
      ".. topic:: References\n",
      "\n",
      "   - Belsley, Kuh & Welsch, 'Regression diagnostics: Identifying Influential Data and Sources of Collinearity', Wiley, 1980. 244-261.\n",
      "   - Quinlan,R. (1993). Combining Instance-Based and Model-Based Learning. In Proceedings on the Tenth International Conference of Machine Learning, 236-243, University of Massachusetts, Amherst. Morgan Kaufmann.\n",
      "\n"
     ]
    }
   ],
   "source": [
    "print(boston.DESCR)"
   ]
  },
  {
   "cell_type": "code",
   "execution_count": 46,
   "metadata": {},
   "outputs": [
    {
     "data": {
      "text/plain": [
       "<matplotlib.axes._subplots.AxesSubplot at 0x1c17f5fd30>"
      ]
     },
     "execution_count": 46,
     "metadata": {},
     "output_type": "execute_result"
    },
    {
     "data": {
      "image/png": "[encoded data removed]",
      "text/plain": [
       "<Figure size 432x288 with 1 Axes>"
      ]
     },
     "metadata": {
      "needs_background": "light"
     },
     "output_type": "display_data"
    }
   ],
   "source": [
    "bos.plot.scatter(x=\"PTRATIO\", y=\"PRICE\")"
   ]
  },
  {
   "cell_type": "markdown",
   "metadata": {},
   "source": [
    "3- Create a correlation heatmap to check to see how highly correlated our predictor variables (features) are (Remember, if our predictors are highly correlated, this is bad.)"
   ]
  },
  {
   "cell_type": "code",
   "execution_count": 55,
   "metadata": {},
   "outputs": [
    {
     "data": {
      "text/html": [
       "<div>\n",
       "<style scoped>\n",
       "    .dataframe tbody tr th:only-of-type {\n",
       "        vertical-align: middle;\n",
       "    }\n",
       "\n",
       "    .dataframe tbody tr th {\n",
       "        vertical-align: top;\n",
       "    }\n",
       "\n",
       "    .dataframe thead th {\n",
       "        text-align: right;\n",
       "    }\n",
       "</style>\n",
       "<table border=\"1\" class=\"dataframe\">\n",
       "  <thead>\n",
       "    <tr style=\"text-align: right;\">\n",
       "      <th></th>\n",
       "      <th>CRIM</th>\n",
       "      <th>ZN</th>\n",
       "      <th>INDUS</th>\n",
       "      <th>CHAS</th>\n",
       "      <th>NOX</th>\n",
       "      <th>RM</th>\n",
       "      <th>AGE</th>\n",
       "      <th>DIS</th>\n",
       "      <th>RAD</th>\n",
       "      <th>TAX</th>\n",
       "      <th>PTRATIO</th>\n",
       "      <th>B</th>\n",
       "      <th>LSTAT</th>\n",
       "      <th>PRICE</th>\n",
       "    </tr>\n",
       "  </thead>\n",
       "  <tbody>\n",
       "    <tr>\n",
       "      <th>0</th>\n",
       "      <td>0.00632</td>\n",
       "      <td>18.0</td>\n",
       "      <td>2.31</td>\n",
       "      <td>0.0</td>\n",
       "      <td>0.538</td>\n",
       "      <td>6.575</td>\n",
       "      <td>65.2</td>\n",
       "      <td>4.0900</td>\n",
       "      <td>1.0</td>\n",
       "      <td>296.0</td>\n",
       "      <td>15.3</td>\n",
       "      <td>396.90</td>\n",
       "      <td>4.98</td>\n",
       "      <td>24.0</td>\n",
       "    </tr>\n",
       "    <tr>\n",
       "      <th>1</th>\n",
       "      <td>0.02731</td>\n",
       "      <td>0.0</td>\n",
       "      <td>7.07</td>\n",
       "      <td>0.0</td>\n",
       "      <td>0.469</td>\n",
       "      <td>6.421</td>\n",
       "      <td>78.9</td>\n",
       "      <td>4.9671</td>\n",
       "      <td>2.0</td>\n",
       "      <td>242.0</td>\n",
       "      <td>17.8</td>\n",
       "      <td>396.90</td>\n",
       "      <td>9.14</td>\n",
       "      <td>21.6</td>\n",
       "    </tr>\n",
       "    <tr>\n",
       "      <th>2</th>\n",
       "      <td>0.02729</td>\n",
       "      <td>0.0</td>\n",
       "      <td>7.07</td>\n",
       "      <td>0.0</td>\n",
       "      <td>0.469</td>\n",
       "      <td>7.185</td>\n",
       "      <td>61.1</td>\n",
       "      <td>4.9671</td>\n",
       "      <td>2.0</td>\n",
       "      <td>242.0</td>\n",
       "      <td>17.8</td>\n",
       "      <td>392.83</td>\n",
       "      <td>4.03</td>\n",
       "      <td>34.7</td>\n",
       "    </tr>\n",
       "  </tbody>\n",
       "</table>\n",
       "</div>"
      ],
      "text/plain": [
       "      CRIM    ZN  INDUS  CHAS    NOX     RM   AGE     DIS  RAD    TAX  \\\n",
       "0  0.00632  18.0   2.31   0.0  0.538  6.575  65.2  4.0900  1.0  296.0   \n",
       "1  0.02731   0.0   7.07   0.0  0.469  6.421  78.9  4.9671  2.0  242.0   \n",
       "2  0.02729   0.0   7.07   0.0  0.469  7.185  61.1  4.9671  2.0  242.0   \n",
       "\n",
       "   PTRATIO       B  LSTAT  PRICE  \n",
       "0     15.3  396.90   4.98   24.0  \n",
       "1     17.8  396.90   9.14   21.6  \n",
       "2     17.8  392.83   4.03   34.7  "
      ]
     },
     "execution_count": 55,
     "metadata": {},
     "output_type": "execute_result"
    }
   ],
   "source": [
    "bos.head(3)"
   ]
  },
  {
   "cell_type": "code",
   "execution_count": 54,
   "metadata": {},
   "outputs": [
    {
     "data": {
      "text/html": [
       "<div>\n",
       "<style scoped>\n",
       "    .dataframe tbody tr th:only-of-type {\n",
       "        vertical-align: middle;\n",
       "    }\n",
       "\n",
       "    .dataframe tbody tr th {\n",
       "        vertical-align: top;\n",
       "    }\n",
       "\n",
       "    .dataframe thead th {\n",
       "        text-align: right;\n",
       "    }\n",
       "</style>\n",
       "<table border=\"1\" class=\"dataframe\">\n",
       "  <thead>\n",
       "    <tr style=\"text-align: right;\">\n",
       "      <th></th>\n",
       "      <th>CRIM</th>\n",
       "      <th>ZN</th>\n",
       "      <th>INDUS</th>\n",
       "      <th>CHAS</th>\n",
       "      <th>NOX</th>\n",
       "      <th>RM</th>\n",
       "      <th>AGE</th>\n",
       "      <th>DIS</th>\n",
       "      <th>RAD</th>\n",
       "      <th>TAX</th>\n",
       "      <th>PTRATIO</th>\n",
       "      <th>B</th>\n",
       "      <th>LSTAT</th>\n",
       "      <th>PRICE</th>\n",
       "    </tr>\n",
       "  </thead>\n",
       "  <tbody>\n",
       "    <tr>\n",
       "      <th>CRIM</th>\n",
       "      <td>1.0000</td>\n",
       "      <td>-0.2005</td>\n",
       "      <td>0.4066</td>\n",
       "      <td>-0.0559</td>\n",
       "      <td>0.4210</td>\n",
       "      <td>-0.2192</td>\n",
       "      <td>0.3527</td>\n",
       "      <td>-0.3797</td>\n",
       "      <td>0.6255</td>\n",
       "      <td>0.5828</td>\n",
       "      <td>0.2899</td>\n",
       "      <td>-0.3851</td>\n",
       "      <td>0.4556</td>\n",
       "      <td>-0.3883</td>\n",
       "    </tr>\n",
       "    <tr>\n",
       "      <th>ZN</th>\n",
       "      <td>-0.2005</td>\n",
       "      <td>1.0000</td>\n",
       "      <td>-0.5338</td>\n",
       "      <td>-0.0427</td>\n",
       "      <td>-0.5166</td>\n",
       "      <td>0.3120</td>\n",
       "      <td>-0.5695</td>\n",
       "      <td>0.6644</td>\n",
       "      <td>-0.3119</td>\n",
       "      <td>-0.3146</td>\n",
       "      <td>-0.3917</td>\n",
       "      <td>0.1755</td>\n",
       "      <td>-0.4130</td>\n",
       "      <td>0.3604</td>\n",
       "    </tr>\n",
       "    <tr>\n",
       "      <th>INDUS</th>\n",
       "      <td>0.4066</td>\n",
       "      <td>-0.5338</td>\n",
       "      <td>1.0000</td>\n",
       "      <td>0.0629</td>\n",
       "      <td>0.7637</td>\n",
       "      <td>-0.3917</td>\n",
       "      <td>0.6448</td>\n",
       "      <td>-0.7080</td>\n",
       "      <td>0.5951</td>\n",
       "      <td>0.7208</td>\n",
       "      <td>0.3832</td>\n",
       "      <td>-0.3570</td>\n",
       "      <td>0.6038</td>\n",
       "      <td>-0.4837</td>\n",
       "    </tr>\n",
       "    <tr>\n",
       "      <th>CHAS</th>\n",
       "      <td>-0.0559</td>\n",
       "      <td>-0.0427</td>\n",
       "      <td>0.0629</td>\n",
       "      <td>1.0000</td>\n",
       "      <td>0.0912</td>\n",
       "      <td>0.0913</td>\n",
       "      <td>0.0865</td>\n",
       "      <td>-0.0992</td>\n",
       "      <td>-0.0074</td>\n",
       "      <td>-0.0356</td>\n",
       "      <td>-0.1215</td>\n",
       "      <td>0.0488</td>\n",
       "      <td>-0.0539</td>\n",
       "      <td>0.1753</td>\n",
       "    </tr>\n",
       "    <tr>\n",
       "      <th>NOX</th>\n",
       "      <td>0.4210</td>\n",
       "      <td>-0.5166</td>\n",
       "      <td>0.7637</td>\n",
       "      <td>0.0912</td>\n",
       "      <td>1.0000</td>\n",
       "      <td>-0.3022</td>\n",
       "      <td>0.7315</td>\n",
       "      <td>-0.7692</td>\n",
       "      <td>0.6114</td>\n",
       "      <td>0.6680</td>\n",
       "      <td>0.1889</td>\n",
       "      <td>-0.3801</td>\n",
       "      <td>0.5909</td>\n",
       "      <td>-0.4273</td>\n",
       "    </tr>\n",
       "    <tr>\n",
       "      <th>RM</th>\n",
       "      <td>-0.2192</td>\n",
       "      <td>0.3120</td>\n",
       "      <td>-0.3917</td>\n",
       "      <td>0.0913</td>\n",
       "      <td>-0.3022</td>\n",
       "      <td>1.0000</td>\n",
       "      <td>-0.2403</td>\n",
       "      <td>0.2052</td>\n",
       "      <td>-0.2098</td>\n",
       "      <td>-0.2920</td>\n",
       "      <td>-0.3555</td>\n",
       "      <td>0.1281</td>\n",
       "      <td>-0.6138</td>\n",
       "      <td>0.6954</td>\n",
       "    </tr>\n",
       "    <tr>\n",
       "      <th>AGE</th>\n",
       "      <td>0.3527</td>\n",
       "      <td>-0.5695</td>\n",
       "      <td>0.6448</td>\n",
       "      <td>0.0865</td>\n",
       "      <td>0.7315</td>\n",
       "      <td>-0.2403</td>\n",
       "      <td>1.0000</td>\n",
       "      <td>-0.7479</td>\n",
       "      <td>0.4560</td>\n",
       "      <td>0.5065</td>\n",
       "      <td>0.2615</td>\n",
       "      <td>-0.2735</td>\n",
       "      <td>0.6023</td>\n",
       "      <td>-0.3770</td>\n",
       "    </tr>\n",
       "    <tr>\n",
       "      <th>DIS</th>\n",
       "      <td>-0.3797</td>\n",
       "      <td>0.6644</td>\n",
       "      <td>-0.7080</td>\n",
       "      <td>-0.0992</td>\n",
       "      <td>-0.7692</td>\n",
       "      <td>0.2052</td>\n",
       "      <td>-0.7479</td>\n",
       "      <td>1.0000</td>\n",
       "      <td>-0.4946</td>\n",
       "      <td>-0.5344</td>\n",
       "      <td>-0.2325</td>\n",
       "      <td>0.2915</td>\n",
       "      <td>-0.4970</td>\n",
       "      <td>0.2499</td>\n",
       "    </tr>\n",
       "    <tr>\n",
       "      <th>RAD</th>\n",
       "      <td>0.6255</td>\n",
       "      <td>-0.3119</td>\n",
       "      <td>0.5951</td>\n",
       "      <td>-0.0074</td>\n",
       "      <td>0.6114</td>\n",
       "      <td>-0.2098</td>\n",
       "      <td>0.4560</td>\n",
       "      <td>-0.4946</td>\n",
       "      <td>1.0000</td>\n",
       "      <td>0.9102</td>\n",
       "      <td>0.4647</td>\n",
       "      <td>-0.4444</td>\n",
       "      <td>0.4887</td>\n",
       "      <td>-0.3816</td>\n",
       "    </tr>\n",
       "    <tr>\n",
       "      <th>TAX</th>\n",
       "      <td>0.5828</td>\n",
       "      <td>-0.3146</td>\n",
       "      <td>0.7208</td>\n",
       "      <td>-0.0356</td>\n",
       "      <td>0.6680</td>\n",
       "      <td>-0.2920</td>\n",
       "      <td>0.5065</td>\n",
       "      <td>-0.5344</td>\n",
       "      <td>0.9102</td>\n",
       "      <td>1.0000</td>\n",
       "      <td>0.4609</td>\n",
       "      <td>-0.4418</td>\n",
       "      <td>0.5440</td>\n",
       "      <td>-0.4685</td>\n",
       "    </tr>\n",
       "    <tr>\n",
       "      <th>PTRATIO</th>\n",
       "      <td>0.2899</td>\n",
       "      <td>-0.3917</td>\n",
       "      <td>0.3832</td>\n",
       "      <td>-0.1215</td>\n",
       "      <td>0.1889</td>\n",
       "      <td>-0.3555</td>\n",
       "      <td>0.2615</td>\n",
       "      <td>-0.2325</td>\n",
       "      <td>0.4647</td>\n",
       "      <td>0.4609</td>\n",
       "      <td>1.0000</td>\n",
       "      <td>-0.1774</td>\n",
       "      <td>0.3740</td>\n",
       "      <td>-0.5078</td>\n",
       "    </tr>\n",
       "    <tr>\n",
       "      <th>B</th>\n",
       "      <td>-0.3851</td>\n",
       "      <td>0.1755</td>\n",
       "      <td>-0.3570</td>\n",
       "      <td>0.0488</td>\n",
       "      <td>-0.3801</td>\n",
       "      <td>0.1281</td>\n",
       "      <td>-0.2735</td>\n",
       "      <td>0.2915</td>\n",
       "      <td>-0.4444</td>\n",
       "      <td>-0.4418</td>\n",
       "      <td>-0.1774</td>\n",
       "      <td>1.0000</td>\n",
       "      <td>-0.3661</td>\n",
       "      <td>0.3335</td>\n",
       "    </tr>\n",
       "    <tr>\n",
       "      <th>LSTAT</th>\n",
       "      <td>0.4556</td>\n",
       "      <td>-0.4130</td>\n",
       "      <td>0.6038</td>\n",
       "      <td>-0.0539</td>\n",
       "      <td>0.5909</td>\n",
       "      <td>-0.6138</td>\n",
       "      <td>0.6023</td>\n",
       "      <td>-0.4970</td>\n",
       "      <td>0.4887</td>\n",
       "      <td>0.5440</td>\n",
       "      <td>0.3740</td>\n",
       "      <td>-0.3661</td>\n",
       "      <td>1.0000</td>\n",
       "      <td>-0.7377</td>\n",
       "    </tr>\n",
       "    <tr>\n",
       "      <th>PRICE</th>\n",
       "      <td>-0.3883</td>\n",
       "      <td>0.3604</td>\n",
       "      <td>-0.4837</td>\n",
       "      <td>0.1753</td>\n",
       "      <td>-0.4273</td>\n",
       "      <td>0.6954</td>\n",
       "      <td>-0.3770</td>\n",
       "      <td>0.2499</td>\n",
       "      <td>-0.3816</td>\n",
       "      <td>-0.4685</td>\n",
       "      <td>-0.5078</td>\n",
       "      <td>0.3335</td>\n",
       "      <td>-0.7377</td>\n",
       "      <td>1.0000</td>\n",
       "    </tr>\n",
       "  </tbody>\n",
       "</table>\n",
       "</div>"
      ],
      "text/plain": [
       "           CRIM      ZN   INDUS    CHAS     NOX      RM     AGE     DIS  \\\n",
       "CRIM     1.0000 -0.2005  0.4066 -0.0559  0.4210 -0.2192  0.3527 -0.3797   \n",
       "ZN      -0.2005  1.0000 -0.5338 -0.0427 -0.5166  0.3120 -0.5695  0.6644   \n",
       "INDUS    0.4066 -0.5338  1.0000  0.0629  0.7637 -0.3917  0.6448 -0.7080   \n",
       "CHAS    -0.0559 -0.0427  0.0629  1.0000  0.0912  0.0913  0.0865 -0.0992   \n",
       "NOX      0.4210 -0.5166  0.7637  0.0912  1.0000 -0.3022  0.7315 -0.7692   \n",
       "RM      -0.2192  0.3120 -0.3917  0.0913 -0.3022  1.0000 -0.2403  0.2052   \n",
       "AGE      0.3527 -0.5695  0.6448  0.0865  0.7315 -0.2403  1.0000 -0.7479   \n",
       "DIS     -0.3797  0.6644 -0.7080 -0.0992 -0.7692  0.2052 -0.7479  1.0000   \n",
       "RAD      0.6255 -0.3119  0.5951 -0.0074  0.6114 -0.2098  0.4560 -0.4946   \n",
       "TAX      0.5828 -0.3146  0.7208 -0.0356  0.6680 -0.2920  0.5065 -0.5344   \n",
       "PTRATIO  0.2899 -0.3917  0.3832 -0.1215  0.1889 -0.3555  0.2615 -0.2325   \n",
       "B       -0.3851  0.1755 -0.3570  0.0488 -0.3801  0.1281 -0.2735  0.2915   \n",
       "LSTAT    0.4556 -0.4130  0.6038 -0.0539  0.5909 -0.6138  0.6023 -0.4970   \n",
       "PRICE   -0.3883  0.3604 -0.4837  0.1753 -0.4273  0.6954 -0.3770  0.2499   \n",
       "\n",
       "            RAD     TAX  PTRATIO       B   LSTAT   PRICE  \n",
       "CRIM     0.6255  0.5828   0.2899 -0.3851  0.4556 -0.3883  \n",
       "ZN      -0.3119 -0.3146  -0.3917  0.1755 -0.4130  0.3604  \n",
       "INDUS    0.5951  0.7208   0.3832 -0.3570  0.6038 -0.4837  \n",
       "CHAS    -0.0074 -0.0356  -0.1215  0.0488 -0.0539  0.1753  \n",
       "NOX      0.6114  0.6680   0.1889 -0.3801  0.5909 -0.4273  \n",
       "RM      -0.2098 -0.2920  -0.3555  0.1281 -0.6138  0.6954  \n",
       "AGE      0.4560  0.5065   0.2615 -0.2735  0.6023 -0.3770  \n",
       "DIS     -0.4946 -0.5344  -0.2325  0.2915 -0.4970  0.2499  \n",
       "RAD      1.0000  0.9102   0.4647 -0.4444  0.4887 -0.3816  \n",
       "TAX      0.9102  1.0000   0.4609 -0.4418  0.5440 -0.4685  \n",
       "PTRATIO  0.4647  0.4609   1.0000 -0.1774  0.3740 -0.5078  \n",
       "B       -0.4444 -0.4418  -0.1774  1.0000 -0.3661  0.3335  \n",
       "LSTAT    0.4887  0.5440   0.3740 -0.3661  1.0000 -0.7377  \n",
       "PRICE   -0.3816 -0.4685  -0.5078  0.3335 -0.7377  1.0000  "
      ]
     },
     "execution_count": 54,
     "metadata": {},
     "output_type": "execute_result"
    }
   ],
   "source": [
    "#this creates a corralation map for all features. \n",
    "bos.corr().round(4)"
   ]
  },
  {
   "cell_type": "code",
   "execution_count": 62,
   "metadata": {},
   "outputs": [
    {
     "data": {
      "text/plain": [
       "<matplotlib.axes._subplots.AxesSubplot at 0x1c18a77080>"
      ]
     },
     "execution_count": 62,
     "metadata": {},
     "output_type": "execute_result"
    },
    {
     "data": {
      "image/png": "[encoded data removed]",
      "text/plain": [
       "<Figure size 432x288 with 2 Axes>"
      ]
     },
     "metadata": {
      "needs_background": "light"
     },
     "output_type": "display_data"
    }
   ],
   "source": [
    "sns.heatmap(bos.corr())"
   ]
  },
  {
   "cell_type": "code",
   "execution_count": 63,
   "metadata": {},
   "outputs": [],
   "source": [
    "def _value_to_category(value):\n",
    "    \"\"\" Helper function to convert numerical values between -1.0 and 1.0 to discretized categories. \"\"\"\n",
    "    _categorical_types, _value_ranges_test = [\"- (S)\", \"- (M)\", \"- (W)\", \"0\", \"+ (W)\", \"+ (M)\", \"+ (S)\"], [-1.0, -0.7, -0.4, -0.1, 0.1, 0.4, 0.7, 1.0]\n",
    "    # Iterates through value ranges and checks if value falls within specific range\n",
    "    for index in range(len(_value_ranges_test) - 1):\n",
    "        if float(value) >= _value_ranges_test[index] and float(value) < _value_ranges_test[index + 1]:\n",
    "            return _categorical_types[index]\n",
    "\n",
    "def corrplot_(df=None, mask_type=\"numerical\", figsize=(14, 14), fontsize=8, cpalette=(10, 220)):\n",
    "    \"\"\" Global function that produces customized correlation plot reducing redundancy. \"\"\"    \n",
    "    if df is None:\n",
    "        raise ReferenceError(\"\\nDataFrame not found.\")\n",
    "    corr_data = df.corr()\n",
    "\n",
    "    # Creates whitespace mask over upper right triangle section for repeated features\n",
    "    upper_triangle_mask = np.zeros_like(corr_data, dtype=np.bool)\n",
    "    upper_triangle_mask[np.triu_indices_from(upper_triangle_mask)] = True\n",
    "    \n",
    "    # Generates MatPlotLib subplot objects\n",
    "    fig, ax = plt.subplots(figsize=figsize)\n",
    "    \n",
    "    # Calculates relative maximum from correlational data\n",
    "    vmax = np.abs(corr_data.values[~upper_triangle_mask]).max()\n",
    "    \n",
    "    # Creates correlational heatmap with simple color intensity relative to distribution\n",
    "    cmap = sns.diverging_palette(cpalette[0], cpalette[1], as_cmap=True)\n",
    "    sns.heatmap(corr_data, mask=upper_triangle_mask, cmap=cmap, vmin=-vmax, vmax=vmax, square=True, linecolor=\"lightgray\", linewidths=1, ax=ax)\n",
    "    \n",
    "    # Overlays feature names and corr. data values over whitespace mask\n",
    "    for iterator in range(len(corr_data)):\n",
    "        ax.text(iterator+0.5, iterator+0.5, corr_data.columns[iterator], ha=\"center\", va=\"center\", rotation=45)\n",
    "        \n",
    "        for jterator in range(iterator+1, len(corr_data)):\n",
    "            value = \"{:.3f}\".format(corr_data.values[iterator, jterator])\n",
    "            \n",
    "            # Switch-case for numerical whitespace mask\n",
    "            if mask_type == \"numerical\":\n",
    "                ax.text(jterator+0.5, (iterator+0.5), value, ha=\"center\", va=\"center\")\n",
    "                \n",
    "            # Switch-case for categorical whitespace mask\n",
    "            if mask_type == \"categorical\":\n",
    "                ax.text(jterator+0.5, (iterator+0.5), _value_to_category(value), ha=\"center\", va=\"center\", fontsize=fontsize)\n",
    "    ax.axis(\"off\")"
   ]
  },
  {
   "cell_type": "code",
   "execution_count": 64,
   "metadata": {},
   "outputs": [
    {
     "data": {
      "image/png": "[encoded data removed]",
      "text/plain": [
       "<Figure size 1008x1008 with 2 Axes>"
      ]
     },
     "metadata": {
      "needs_background": "light"
     },
     "output_type": "display_data"
    }
   ],
   "source": [
    "corrplot_(bos)"
   ]
  },
  {
   "cell_type": "markdown",
   "metadata": {},
   "source": [
    "4- Train the model based on the train set. Use 75 peercent of the data for train part. Use 25 percent of the data for test part.\n",
    "\n"
   ]
  },
  {
   "cell_type": "code",
   "execution_count": 65,
   "metadata": {},
   "outputs": [],
   "source": [
    "from sklearn.linear_model import LinearRegression\n",
    "from sklearn.metrics import r2_score"
   ]
  },
  {
   "cell_type": "code",
   "execution_count": 84,
   "metadata": {},
   "outputs": [
    {
     "data": {
      "text/plain": [
       "126.5"
      ]
     },
     "execution_count": 84,
     "metadata": {},
     "output_type": "execute_result"
    }
   ],
   "source": [
    "bos[\"PRICE\"].count()*.25"
   ]
  },
  {
   "cell_type": "code",
   "execution_count": null,
   "metadata": {},
   "outputs": [],
   "source": [
    "# CREATE LINEAR REGRESSION FOR ONE INDEPENDENT VARIABLE AND \"PRICE\""
   ]
  },
  {
   "cell_type": "code",
   "execution_count": 70,
   "metadata": {},
   "outputs": [],
   "source": [
    "#Set feature cols\n",
    "feature_cols = [\"RM\"]\n",
    "\n",
    "\n",
    "X_train = bos[feature_cols][:380]\n",
    "Y_train= bos.PRICE[:380]"
   ]
  },
  {
   "cell_type": "code",
   "execution_count": 74,
   "metadata": {},
   "outputs": [
    {
     "name": "stdout",
     "output_type": "stream",
     "text": [
      "Generating a Linuar Regression of 380 homes\n"
     ]
    },
    {
     "data": {
      "text/plain": [
       "LinearRegression(copy_X=True, fit_intercept=True, n_jobs=None,\n",
       "         normalize=False)"
      ]
     },
     "execution_count": 74,
     "metadata": {},
     "output_type": "execute_result"
    }
   ],
   "source": [
    "print(\"Generating a Linuar Regression of 380 homes\")\n",
    "#2) obtain best linear representation from trained part of data\n",
    "priceing_regression = LinearRegression()\n",
    "\n",
    "priceing_regression.fit(X_train, Y_train)"
   ]
  },
  {
   "cell_type": "code",
   "execution_count": 75,
   "metadata": {},
   "outputs": [
    {
     "name": "stdout",
     "output_type": "stream",
     "text": [
      "Printing the coefficient and y intercept of our trainging data\n",
      "[9.22746282]\n",
      "-33.766719404280046\n"
     ]
    }
   ],
   "source": [
    "#Coefficients are basically the weights of the factors\n",
    "print(\"Printing the coefficient and y intercept of our trainging data\")\n",
    "print(priceing_regression.coef_)\n",
    "print(priceing_regression.intercept_)"
   ]
  },
  {
   "cell_type": "code",
   "execution_count": 122,
   "metadata": {},
   "outputs": [
    {
     "name": "stdout",
     "output_type": "stream",
     "text": [
      "Predicting the sales of the bottom 50 companies (last ones)\n",
      "[30.53 26.63 17.32 17.17  6.54 14.93  9.16 12.37 11.26 15.97 18.95 22.07\n",
      " 12.7  23.38 20.56 25.94 25.34 19.26 16.55 20.23 21.48 24.76 25.33 15.59\n",
      " 17.27 18.67  4.42 17.98 18.06 29.46 19.36 27.66  8.94 13.8   7.93 25.6\n",
      " 28.81 15.18 21.2  29.2  25.39 21.65 18.35 22.55 17.58 20.64 20.09 23.46\n",
      " 23.38 25.1  24.81 29.28 25.52 25.62 23.52 27.4  25.85 23.   21.   18.16\n",
      " 19.92 25.34 23.62 26.07 20.25 25.83 24.74 23.91 23.31 25.45 28.51 27.64\n",
      " 24.34 34.45 28.32 26.44 21.38 21.01 24.38 22.35 28.07 25.07 24.52 26.33\n",
      " 23.53 19.37 21.16 21.63 20.92 18.95 23.14 23.71 25.63 30.64 16.31 23.09\n",
      " 26.06 15.18 23.31 23.71 23.83 28.52 31.39 19.4  20.41 24.48 22.65 20.72\n",
      " 16.56 16.19 13.23 21.44 21.44 18.89 20.92 18.55 15.97 19.7  21.77 17.62\n",
      " 21.85 27.07 22.71 30.6  28.92 21.87]\n",
      "Price Regressinon Score\n",
      "-1.931\n",
      "Price Regressinon  R2Score\n",
      "-1.931\n"
     ]
    }
   ],
   "source": [
    "#     3) Evaluate our model based mean square and R squared for test data\n",
    "# Predict the botton 50 companies' sales\n",
    "X_test = bos[feature_cols][-126:]\n",
    "Y_test = bos.PRICE[-126::]\n",
    "print(\"Predicting the sales of the bottom 50 companies (last ones)\")\n",
    "print(priceing_regression.predict(X_test).round(2))\n",
    "\n",
    "#compute scores of sales regression model with this data:\n",
    "print(\"Price Regressinon Score\")\n",
    "print(priceing_regression.score(X_test, Y_test).round(3))\n",
    "print(\"Price Regressinon  R2Score\")\n",
    "print(r2_score(Y_test, priceing_regression.predict(X_test)).round(3))"
   ]
  },
  {
   "cell_type": "code",
   "execution_count": 140,
   "metadata": {},
   "outputs": [],
   "source": [
    "#Set feature cols\n",
    "def bos_price_regression(feature_cols, train_sample = .75):\n",
    "    \n",
    "    train_size = int((bos[\"PRICE\"].count()*train_sample))\n",
    "    test_size = bos[\"PRICE\"].count() - train_size\n",
    "    \n",
    "    X_train = bos[feature_cols][:train_size]\n",
    "    Y_train= bos.PRICE[:train_size]\n",
    "    print(\"Generating a Linuar Regression of {} homes\".format(train_size))\n",
    "    #2) obtain best linear representation from trained part of data\n",
    "    priceing_regression = LinearRegression()\n",
    "\n",
    "    priceing_regression.fit(X_train, Y_train)\n",
    "    #Coefficients are basically the weights of the factors\n",
    "    print(\"Printing the coefficient and y intercept of our trainging data\")\n",
    "    print(priceing_regression.coef_)\n",
    "    print(priceing_regression.intercept_)\n",
    "\n",
    "    #     3) Evaluate our model based mean square and R squared for test data\n",
    "    # Predict the botton 50 companies' sales\n",
    "    X_test = bos[feature_cols][-126:]\n",
    "    Y_test = bos.PRICE[-126:]\n",
    "    print(\"Predicting the sales of the bottom {} companies (last ones)\".format(test_size))\n",
    "    print(priceing_regression.predict(X_test).round(2))\n",
    "\n",
    "    #compute scores of sales regression model with this data:\n",
    "    print(\"Price Regressinon Score\")\n",
    "    print(priceing_regression.score(X_test, Y_test).round(3))\n",
    "    print(\"Price Regressinon  R2Score\")\n",
    "    print(r2_score(Y_test, priceing_regression.predict(X_test)).round(3))\n"
   ]
  },
  {
   "cell_type": "code",
   "execution_count": 250,
   "metadata": {},
   "outputs": [],
   "source": [
    "def linear_predictor(features, train_size=0.75, df=bos, get_pred=True, get_acc=True, get_fit=True, get_err=True):\n",
    "    \"\"\" Runs our linear regression for prediction on Boston housing data. \"\"\"\n",
    "    X, y = bos[features], bos[\"PRICE\"]\n",
    "    X_train, X_test, y_train, y_test = train_test_split(X, y, train_size=train_size, test_size=1-train_size)\n",
    "    \n",
    "    model_LinReg = LinearRegression()\n",
    "    model_LinReg.fit(X_train, y_train)\n",
    "\n",
    "    y_pred = model_LinReg.predict(X_test)\n",
    "    accuracy = model_LinReg.score(X_test, y_test)\n",
    "    weights, intercept = model_LinReg.coef_, model_LinReg.intercept_\n",
    "    RSq, MSE = r2_score(y_test, y_pred), mean_squared_error(y_test, y_pred)\n",
    "    \n",
    "    ret_params = {\n",
    "        \"y_pred\": None,\n",
    "        \"accuracy\": None,\n",
    "        \"weights\": None,\n",
    "        \"intercept\": None,\n",
    "        \"RSq\": None,\n",
    "        \"MSE\": None\n",
    "    }\n",
    "    if get_pred:\n",
    "        ret_params[\"y_pred\"] = y_pred\n",
    "    if get_acc:\n",
    "        ret_params[\"accuracy\"] = accuracy\n",
    "    if get_fit:\n",
    "        ret_params[\"weights\"] = weights\n",
    "        ret_params[\"intercept\"] = intercept\n",
    "    if get_err:\n",
    "        ret_params[\"RSq\"] = RSq\n",
    "        ret_params[\"MSE\"] = MSE\n",
    "    return ret_params"
   ]
  },
  {
   "cell_type": "code",
   "execution_count": null,
   "metadata": {},
   "outputs": [],
   "source": [
    "one_feature = [\"LSTAT\"]\n",
    "two_features = [\"LSTAT\", \"RM\"]\n",
    "all_features = list(bos.keys())[0:13]"
   ]
  },
  {
   "cell_type": "code",
   "execution_count": 255,
   "metadata": {},
   "outputs": [],
   "source": [
    "# Testing Predictor for One Independent Feature\n",
    "params = linear_predictor(one_feature, get_acc=False, get_err=False)\n",
    "\n",
    "y_pred = params[\"y_pred\"]\n",
    "accuracy = params[\"accuracy\"]\n",
    "weights = params[\"weights\"]\n",
    "intercept = params[\"intercept\"]\n",
    "RSq = params[\"RSq\"]\n",
    "MSE = params[\"MSE\"]"
   ]
  },
  {
   "cell_type": "code",
   "execution_count": 270,
   "metadata": {},
   "outputs": [],
   "source": [
    "# Testing Predictor for Two Independent Features\n",
    "params = linear_predictor(two_features)\n",
    "\n",
    "y_pred = params[\"y_pred\"]\n",
    "accuracy = params[\"accuracy\"]\n",
    "weights = params[\"weights\"]\n",
    "intercept = params[\"intercept\"]\n",
    "RSq = params[\"RSq\"]\n",
    "MSE = params[\"MSE\"]"
   ]
  },
  {
   "cell_type": "code",
   "execution_count": 286,
   "metadata": {},
   "outputs": [],
   "source": [
    "# Testing Predictor for Two Independent Features\n",
    "params = linear_predictor(all_features)\n",
    "\n",
    "y_pred = params[\"y_pred\"]\n",
    "accuracy = params[\"accuracy\"]\n",
    "weights = params[\"weights\"]\n",
    "intercept = params[\"intercept\"]\n",
    "RSq = params[\"RSq\"]\n",
    "MSE = params[\"MSE\"]"
   ]
  },
  {
   "cell_type": "code",
   "execution_count": 287,
   "metadata": {},
   "outputs": [
    {
     "data": {
      "text/plain": [
       "0.6859697124479722"
      ]
     },
     "execution_count": 287,
     "metadata": {},
     "output_type": "execute_result"
    }
   ],
   "source": [
    "RSq"
   ]
  },
  {
   "cell_type": "code",
   "execution_count": 304,
   "metadata": {},
   "outputs": [
    {
     "name": "stdout",
     "output_type": "stream",
     "text": [
      "For one feature (LSTAT), our model predicted with 53.96% accuracy.\n"
     ]
    }
   ],
   "source": [
    "global_accuracy = 0\n",
    "\n",
    "for iteration in range(100):\n",
    "    params = linear_predictor(one_feature)\n",
    "    global_accuracy += params[\"accuracy\"]\n",
    "\n",
    "print(\"For one feature (LSTAT), our model predicted with {:.2f}% accuracy.\".format(global_accuracy))"
   ]
  },
  {
   "cell_type": "code",
   "execution_count": 305,
   "metadata": {},
   "outputs": [
    {
     "name": "stdout",
     "output_type": "stream",
     "text": [
      "For two features (LSTAT, RM), our model predicted with 63.69% accuracy.\n"
     ]
    }
   ],
   "source": [
    "global_accuracy = 0\n",
    "\n",
    "for iteration in range(100):\n",
    "    params = linear_predictor(two_features)\n",
    "    global_accuracy += params[\"accuracy\"]\n",
    "\n",
    "print(\"For two features (LSTAT, RM), our model predicted with {:.2f}% accuracy.\".format(global_accuracy))"
   ]
  },
  {
   "cell_type": "code",
   "execution_count": 306,
   "metadata": {},
   "outputs": [
    {
     "name": "stdout",
     "output_type": "stream",
     "text": [
      "For all features, our model predicted with 71.10% accuracy.\n"
     ]
    }
   ],
   "source": [
    "global_accuracy = 0\n",
    "\n",
    "for iteration in range(100):\n",
    "    params = linear_predictor(all_features)\n",
    "    global_accuracy += params[\"accuracy\"]\n",
    "\n",
    "print(\"For all features, our model predicted with {:.2f}% accuracy.\".format(global_accuracy))"
   ]
  },
  {
   "cell_type": "code",
   "execution_count": null,
   "metadata": {},
   "outputs": [],
   "source": []
  },
  {
   "cell_type": "code",
   "execution_count": null,
   "metadata": {},
   "outputs": [],
   "source": []
  },
  {
   "cell_type": "code",
   "execution_count": null,
   "metadata": {},
   "outputs": [],
   "source": []
  },
  {
   "cell_type": "code",
   "execution_count": null,
   "metadata": {},
   "outputs": [],
   "source": []
  },
  {
   "cell_type": "code",
   "execution_count": 141,
   "metadata": {},
   "outputs": [
    {
     "name": "stdout",
     "output_type": "stream",
     "text": [
      "Generating a Linuar Regression of 379 homes\n",
      "Printing the coefficient and y intercept of our trainging data\n",
      "[ 9.33582670e+00 -2.91167066e-01  5.38919869e-04]\n",
      "-33.33647311146498\n",
      "Predicting the sales of the bottom 127 companies (last ones)\n",
      "[31.66 27.68 18.25 18.11  7.38 15.87 10.03 13.26 12.12 16.84 19.8  22.88\n",
      " 13.52 24.32 21.46 26.93 26.33 20.2  17.5  21.22 22.45 25.78 26.33 16.46\n",
      " 18.19 19.66  5.31 19.   19.04 30.56 20.36 28.73  9.78 14.69  8.73 26.55\n",
      " 29.81 16.06 22.11 30.21 26.33 22.55 19.18 23.41 18.38 21.51 20.93 24.38\n",
      " 24.28 26.01 25.69 30.21 26.36 26.43 24.33 28.29 26.76 23.9  21.9  19.03\n",
      " 20.79 26.23 24.5  26.99 21.12 26.74 25.62 24.74 24.11 26.29 29.35 28.47\n",
      " 25.12 35.33 29.11 27.23 22.06 21.63 25.04 23.   28.83 25.8  25.2  27.01\n",
      " 24.13 19.89 21.75 22.33 21.5  19.54 23.71 24.27 26.27 31.45 16.98 23.91\n",
      " 26.88 15.93 24.13 24.61 24.3  29.07 31.95 19.62 20.75 24.79 23.07 21.23\n",
      " 17.43 17.08 14.06 22.36 22.29 19.46 21.5  18.99 16.38 20.12 22.37 18.17\n",
      " 22.41 27.64 23.28 31.31 29.54 22.38]\n",
      "Price Regressinon Score\n",
      "-2.364\n",
      "Price Regressinon  R2Score\n",
      "-2.364\n"
     ]
    }
   ],
   "source": [
    "feature_cols2 = [\"RM\", \"DIS\", \"TAX\"]\n",
    "\n",
    "bos_price_regression(feature_cols2)"
   ]
  },
  {
   "cell_type": "code",
   "execution_count": 142,
   "metadata": {},
   "outputs": [
    {
     "data": {
      "text/plain": [
       "['CRIM',\n",
       " 'ZN',\n",
       " 'INDUS',\n",
       " 'CHAS',\n",
       " 'NOX',\n",
       " 'RM',\n",
       " 'AGE',\n",
       " 'DIS',\n",
       " 'RAD',\n",
       " 'TAX',\n",
       " 'PTRATIO',\n",
       " 'B',\n",
       " 'LSTAT']"
      ]
     },
     "execution_count": 142,
     "metadata": {},
     "output_type": "execute_result"
    }
   ],
   "source": []
  },
  {
   "cell_type": "code",
   "execution_count": 143,
   "metadata": {},
   "outputs": [
    {
     "name": "stdout",
     "output_type": "stream",
     "text": [
      "Generating a Linuar Regression of 379 homes\n",
      "Printing the coefficient and y intercept of our trainging data\n",
      "[-1.62647151e-01  4.54534053e-02  6.81540605e-02  8.59133484e-01\n",
      " -1.55143801e+01  5.32160013e+00 -1.40134944e-03 -1.31116913e+00\n",
      "  6.17381496e-01 -1.46527328e-02 -8.09280939e-01  2.75909911e-03\n",
      " -4.54810890e-01]\n",
      "23.405978440853733\n",
      "Predicting the sales of the bottom 127 companies (last ones)\n",
      "[16.83 24.57 18.61 18.34  7.31 12.91  9.45  9.85 11.01 19.06 22.4  23.38\n",
      " 14.37 25.87 22.94 26.51 25.68 21.68 10.47 17.35 17.08 23.69 24.63 16.77\n",
      " 11.51 10.4  10.5  24.6  19.59 27.64 19.82 25.53  7.93 16.09  0.32 18.43\n",
      " 22.96 12.77 10.72 23.94 26.   24.18 23.63 21.8  21.88 17.9  23.59 20.59\n",
      " 22.41 21.75 26.09 27.42 29.24 25.37 23.39 22.13 23.02 17.49 13.44 18.46\n",
      " 17.69 23.72 24.82 24.52 18.16 20.98 24.53 24.1  23.43 24.27 26.   26.51\n",
      " 24.95 30.36 24.65 24.82 21.21 21.09 24.16 24.27 26.87 26.55 25.85 28.61\n",
      " 26.06 23.73 22.63 23.27 22.21 23.23 26.05 28.63 28.68 32.53 21.26 22.89\n",
      " 26.98 16.35 24.94 27.05 29.   33.18 35.06 26.22 25.18 28.25 25.43 26.6\n",
      " 10.99  8.02  3.56 13.73 15.59 20.2  20.65 16.94 13.77 19.01 21.39 18.01\n",
      " 20.65 23.36 21.37 27.63 25.97 21.15]\n",
      "Price Regressinon Score\n",
      "-1.328\n",
      "Price Regressinon  R2Score\n",
      "-1.328\n"
     ]
    }
   ],
   "source": [
    "bos_price_regression(feature_col_all)"
   ]
  },
  {
   "cell_type": "code",
   "execution_count": null,
   "metadata": {},
   "outputs": [],
   "source": []
  },
  {
   "cell_type": "code",
   "execution_count": null,
   "metadata": {},
   "outputs": [],
   "source": []
  },
  {
   "cell_type": "code",
   "execution_count": 144,
   "metadata": {},
   "outputs": [],
   "source": [
    "# AFTER MODEL IS TRAINED AND TESTED\n",
    "\n",
    "# weights, intercepts = model.coef_, model.intercept_\n",
    "# y = weights * data + intercepts\n",
    "# plt.plot(y)"
   ]
  },
  {
   "cell_type": "code",
   "execution_count": null,
   "metadata": {},
   "outputs": [],
   "source": []
  },
  {
   "cell_type": "code",
   "execution_count": null,
   "metadata": {},
   "outputs": [],
   "source": []
  },
  {
   "cell_type": "code",
   "execution_count": null,
   "metadata": {},
   "outputs": [],
   "source": []
  },
  {
   "cell_type": "code",
   "execution_count": null,
   "metadata": {},
   "outputs": [],
   "source": [
    "x"
   ]
  }
 ],
 "metadata": {
  "kernelspec": {
   "display_name": "Python 3",
   "language": "python",
   "name": "python3"
  },
  "language_info": {
   "codemirror_mode": {
    "name": "ipython",
    "version": 3
   },
   "file_extension": ".py",
   "mimetype": "text/x-python",
   "name": "python",
   "nbconvert_exporter": "python",
   "pygments_lexer": "ipython3",
   "version": "3.7.1"
  }
 },
 "nbformat": 4,
 "nbformat_minor": 2
}
